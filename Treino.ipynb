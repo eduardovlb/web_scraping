{
 "cells": [
  {
   "cell_type": "code",
   "execution_count": 54,
   "id": "sustainable-weight",
   "metadata": {},
   "outputs": [],
   "source": [
    "import requests\n",
    "from urllib.request import urlopen\n",
    "from bs4 import BeautifulSoup\n",
    "\n",
    "html = requests.get('https://www.amazon.com.br')\n",
    "soup = BeautifulSoup(html.text, 'html.parser')"
   ]
  },
  {
   "cell_type": "code",
   "execution_count": 55,
   "id": "lesbian-fellowship",
   "metadata": {},
   "outputs": [],
   "source": [
    "link = soup.find('div', {'id': 'nav-xshop-container'}).find('a')['href']"
   ]
  },
  {
   "cell_type": "code",
   "execution_count": 57,
   "id": "leading-involvement",
   "metadata": {},
   "outputs": [
    {
     "data": {
      "text/plain": [
       "'/prime?ref_=nav_cs_primelink_nonmember_2a8697f80319430e91db0b11131f6745'"
      ]
     },
     "execution_count": 57,
     "metadata": {},
     "output_type": "execute_result"
    }
   ],
   "source": [
    "link"
   ]
  },
  {
   "cell_type": "code",
   "execution_count": null,
   "id": "sound-embassy",
   "metadata": {},
   "outputs": [],
   "source": []
  }
 ],
 "metadata": {
  "kernelspec": {
   "display_name": "Python 3",
   "language": "python",
   "name": "python3"
  },
  "language_info": {
   "codemirror_mode": {
    "name": "ipython",
    "version": 3
   },
   "file_extension": ".py",
   "mimetype": "text/x-python",
   "name": "python",
   "nbconvert_exporter": "python",
   "pygments_lexer": "ipython3",
   "version": "3.8.8"
  }
 },
 "nbformat": 4,
 "nbformat_minor": 5
}
